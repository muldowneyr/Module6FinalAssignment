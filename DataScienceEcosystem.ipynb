{
 "cells": [
  {
   "cell_type": "markdown",
   "id": "6d846006-2b87-4f45-a1ee-affe1e501330",
   "metadata": {},
   "source": [
    "# Data Science Tools and Ecosystems"
   ]
  },
  {
   "cell_type": "markdown",
   "id": "8d9f1475-c85b-45d4-89ad-7a89e201bf24",
   "metadata": {},
   "source": [
    "In this notebook, data science tools and ecosystems are summarized"
   ]
  },
  {
   "cell_type": "markdown",
   "id": "cb05731c-a72f-4de3-bdc4-28b4fe3ef6f3",
   "metadata": {},
   "source": [
    "**Objectives:** \n",
    "* list popular languages for DS\n",
    "* list commonly used open source development environments\n",
    "* create markdowns in Anaconda\n",
    "* perform basic arithmetic in R"
   ]
  },
  {
   "cell_type": "markdown",
   "id": "cbedaa61-2a65-46eb-8812-a0406636404d",
   "metadata": {},
   "source": [
    "Some popular data science languages are\n",
    "1. Python\n",
    "2. R\n",
    "3. Julia\n",
    "4. C++\n",
    "5. Java"
   ]
  },
  {
   "cell_type": "markdown",
   "id": "3002370a-c207-43b4-9cdf-745e5b3c7b26",
   "metadata": {},
   "source": [
    "Some commonly used libraries in Data Science are:\n",
    "1. ggplot\n",
    "2. carat\n",
    "3. dplr\n",
    "4. Pandas\n",
    "5. NumPy"
   ]
  },
  {
   "cell_type": "markdown",
   "id": "9bc7e6b3-364c-4aba-9f9a-d748158188e7",
   "metadata": {},
   "source": [
    "| Data Science Tools |\n",
    "| -- |\n",
    "|Jupyter Notebook|\n",
    "|Jupyter Lab|\n",
    "|RStudio|"
   ]
  },
  {
   "cell_type": "markdown",
   "id": "b2903e74-def5-4753-91b1-87bb7deaf779",
   "metadata": {},
   "source": [
    "### Below, find examples of arthimetic expressions in Python"
   ]
  },
  {
   "cell_type": "code",
   "execution_count": 13,
   "id": "4b05304a-c243-47eb-9513-c25e0f043e56",
   "metadata": {},
   "outputs": [
    {
     "data": {
      "text/plain": [
       "17"
      ]
     },
     "execution_count": 13,
     "metadata": {},
     "output_type": "execute_result"
    }
   ],
   "source": [
    "# this is a simple arithmetic equation using multiplication and addition\n",
    "(3*4)+5"
   ]
  },
  {
   "cell_type": "code",
   "execution_count": 15,
   "id": "0d508305-ca13-4c40-bead-7d99b253ad6f",
   "metadata": {},
   "outputs": [
    {
     "data": {
      "text/plain": [
       "3.3333333333333335"
      ]
     },
     "execution_count": 15,
     "metadata": {},
     "output_type": "execute_result"
    }
   ],
   "source": [
    "# this code converts 200 minutes to hours\n",
    "200/60"
   ]
  },
  {
   "cell_type": "markdown",
   "id": "f4f58b93-941b-485e-a9ab-f2cffa04c0a2",
   "metadata": {},
   "source": [
    "## Author\n",
    "Ryan Muldowney"
   ]
  },
  {
   "cell_type": "code",
   "execution_count": null,
   "id": "6af448e2-bf94-42f8-83d7-a03e7652b18a",
   "metadata": {},
   "outputs": [],
   "source": []
  }
 ],
 "metadata": {
  "kernelspec": {
   "display_name": "Python 3 (ipykernel)",
   "language": "python",
   "name": "python3"
  },
  "language_info": {
   "codemirror_mode": {
    "name": "ipython",
    "version": 3
   },
   "file_extension": ".py",
   "mimetype": "text/x-python",
   "name": "python",
   "nbconvert_exporter": "python",
   "pygments_lexer": "ipython3",
   "version": "3.12.4"
  }
 },
 "nbformat": 4,
 "nbformat_minor": 5
}
